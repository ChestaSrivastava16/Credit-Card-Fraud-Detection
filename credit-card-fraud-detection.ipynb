{
 "cells": [
  {
   "cell_type": "code",
   "execution_count": 1,
   "id": "c60f2537",
   "metadata": {
    "execution": {
     "iopub.execute_input": "2023-06-23T19:17:53.010901Z",
     "iopub.status.busy": "2023-06-23T19:17:53.009482Z",
     "iopub.status.idle": "2023-06-23T19:17:54.862077Z",
     "shell.execute_reply": "2023-06-23T19:17:54.861088Z"
    },
    "papermill": {
     "duration": 1.872817,
     "end_time": "2023-06-23T19:17:54.864901",
     "exception": false,
     "start_time": "2023-06-23T19:17:52.992084",
     "status": "completed"
    },
    "tags": []
   },
   "outputs": [],
   "source": [
    "import pandas as pd\n",
    "import matplotlib.pyplot as plt\n",
    "%matplotlib inline\n",
    "import seaborn as sns\n",
    "import numpy as np"
   ]
  },
  {
   "cell_type": "code",
   "execution_count": 2,
   "id": "dc927921",
   "metadata": {
    "execution": {
     "iopub.execute_input": "2023-06-23T19:17:54.889924Z",
     "iopub.status.busy": "2023-06-23T19:17:54.889431Z",
     "iopub.status.idle": "2023-06-23T19:17:54.895346Z",
     "shell.execute_reply": "2023-06-23T19:17:54.894035Z"
    },
    "papermill": {
     "duration": 0.021371,
     "end_time": "2023-06-23T19:17:54.897924",
     "exception": false,
     "start_time": "2023-06-23T19:17:54.876553",
     "status": "completed"
    },
    "tags": []
   },
   "outputs": [],
   "source": [
    "pd.set_option('display.max_columns', None)\n",
    "pd.set_option('display.max_rows', None)"
   ]
  },
  {
   "cell_type": "code",
   "execution_count": 3,
   "id": "0075f126",
   "metadata": {
    "execution": {
     "iopub.execute_input": "2023-06-23T19:17:54.923056Z",
     "iopub.status.busy": "2023-06-23T19:17:54.922600Z",
     "iopub.status.idle": "2023-06-23T19:18:00.306216Z",
     "shell.execute_reply": "2023-06-23T19:18:00.304929Z"
    },
    "papermill": {
     "duration": 5.399739,
     "end_time": "2023-06-23T19:18:00.309207",
     "exception": false,
     "start_time": "2023-06-23T19:17:54.909468",
     "status": "completed"
    },
    "tags": []
   },
   "outputs": [],
   "source": [
    "df = pd.read_csv(\"../music/creditcard.csv\")"
   ]
  },
  {
   "cell_type": "markdown",
   "id": "663a7210",
   "metadata": {
    "papermill": {
     "duration": 0.011245,
     "end_time": "2023-06-23T19:18:00.332279",
     "exception": false,
     "start_time": "2023-06-23T19:18:00.321034",
     "status": "completed"
    },
    "tags": []
   },
   "source": [
    "# Data Cleaning"
   ]
  },
  {
   "cell_type": "code",
   "execution_count": 4,
   "id": "3aae0a5a",
   "metadata": {
    "execution": {
     "iopub.execute_input": "2023-06-23T19:18:00.358061Z",
     "iopub.status.busy": "2023-06-23T19:18:00.357567Z",
     "iopub.status.idle": "2023-06-23T19:18:00.416520Z",
     "shell.execute_reply": "2023-06-23T19:18:00.415092Z"
    },
    "papermill": {
     "duration": 0.076272,
     "end_time": "2023-06-23T19:18:00.420022",
     "exception": false,
     "start_time": "2023-06-23T19:18:00.343750",
     "status": "completed"
    },
    "tags": []
   },
   "outputs": [
    {
     "data": {
      "text/html": [
       "<div>\n",
       "<style scoped>\n",
       "    .dataframe tbody tr th:only-of-type {\n",
       "        vertical-align: middle;\n",
       "    }\n",
       "\n",
       "    .dataframe tbody tr th {\n",
       "        vertical-align: top;\n",
       "    }\n",
       "\n",
       "    .dataframe thead th {\n",
       "        text-align: right;\n",
       "    }\n",
       "</style>\n",
       "<table border=\"1\" class=\"dataframe\">\n",
       "  <thead>\n",
       "    <tr style=\"text-align: right;\">\n",
       "      <th></th>\n",
       "      <th>Time</th>\n",
       "      <th>V1</th>\n",
       "      <th>V2</th>\n",
       "      <th>V3</th>\n",
       "      <th>V4</th>\n",
       "      <th>V5</th>\n",
       "      <th>V6</th>\n",
       "      <th>V7</th>\n",
       "      <th>V8</th>\n",
       "      <th>V9</th>\n",
       "      <th>V10</th>\n",
       "      <th>V11</th>\n",
       "      <th>V12</th>\n",
       "      <th>V13</th>\n",
       "      <th>V14</th>\n",
       "      <th>V15</th>\n",
       "      <th>V16</th>\n",
       "      <th>V17</th>\n",
       "      <th>V18</th>\n",
       "      <th>V19</th>\n",
       "      <th>V20</th>\n",
       "      <th>V21</th>\n",
       "      <th>V22</th>\n",
       "      <th>V23</th>\n",
       "      <th>V24</th>\n",
       "      <th>V25</th>\n",
       "      <th>V26</th>\n",
       "      <th>V27</th>\n",
       "      <th>V28</th>\n",
       "      <th>Amount</th>\n",
       "      <th>Class</th>\n",
       "    </tr>\n",
       "  </thead>\n",
       "  <tbody>\n",
       "    <tr>\n",
       "      <th>0</th>\n",
       "      <td>0.0</td>\n",
       "      <td>-1.359807</td>\n",
       "      <td>-0.072781</td>\n",
       "      <td>2.536347</td>\n",
       "      <td>1.378155</td>\n",
       "      <td>-0.338321</td>\n",
       "      <td>0.462388</td>\n",
       "      <td>0.239599</td>\n",
       "      <td>0.098698</td>\n",
       "      <td>0.363787</td>\n",
       "      <td>0.090794</td>\n",
       "      <td>-0.551600</td>\n",
       "      <td>-0.617801</td>\n",
       "      <td>-0.991390</td>\n",
       "      <td>-0.311169</td>\n",
       "      <td>1.468177</td>\n",
       "      <td>-0.470401</td>\n",
       "      <td>0.207971</td>\n",
       "      <td>0.025791</td>\n",
       "      <td>0.403993</td>\n",
       "      <td>0.251412</td>\n",
       "      <td>-0.018307</td>\n",
       "      <td>0.277838</td>\n",
       "      <td>-0.110474</td>\n",
       "      <td>0.066928</td>\n",
       "      <td>0.128539</td>\n",
       "      <td>-0.189115</td>\n",
       "      <td>0.133558</td>\n",
       "      <td>-0.021053</td>\n",
       "      <td>149.62</td>\n",
       "      <td>0</td>\n",
       "    </tr>\n",
       "    <tr>\n",
       "      <th>1</th>\n",
       "      <td>0.0</td>\n",
       "      <td>1.191857</td>\n",
       "      <td>0.266151</td>\n",
       "      <td>0.166480</td>\n",
       "      <td>0.448154</td>\n",
       "      <td>0.060018</td>\n",
       "      <td>-0.082361</td>\n",
       "      <td>-0.078803</td>\n",
       "      <td>0.085102</td>\n",
       "      <td>-0.255425</td>\n",
       "      <td>-0.166974</td>\n",
       "      <td>1.612727</td>\n",
       "      <td>1.065235</td>\n",
       "      <td>0.489095</td>\n",
       "      <td>-0.143772</td>\n",
       "      <td>0.635558</td>\n",
       "      <td>0.463917</td>\n",
       "      <td>-0.114805</td>\n",
       "      <td>-0.183361</td>\n",
       "      <td>-0.145783</td>\n",
       "      <td>-0.069083</td>\n",
       "      <td>-0.225775</td>\n",
       "      <td>-0.638672</td>\n",
       "      <td>0.101288</td>\n",
       "      <td>-0.339846</td>\n",
       "      <td>0.167170</td>\n",
       "      <td>0.125895</td>\n",
       "      <td>-0.008983</td>\n",
       "      <td>0.014724</td>\n",
       "      <td>2.69</td>\n",
       "      <td>0</td>\n",
       "    </tr>\n",
       "    <tr>\n",
       "      <th>2</th>\n",
       "      <td>1.0</td>\n",
       "      <td>-1.358354</td>\n",
       "      <td>-1.340163</td>\n",
       "      <td>1.773209</td>\n",
       "      <td>0.379780</td>\n",
       "      <td>-0.503198</td>\n",
       "      <td>1.800499</td>\n",
       "      <td>0.791461</td>\n",
       "      <td>0.247676</td>\n",
       "      <td>-1.514654</td>\n",
       "      <td>0.207643</td>\n",
       "      <td>0.624501</td>\n",
       "      <td>0.066084</td>\n",
       "      <td>0.717293</td>\n",
       "      <td>-0.165946</td>\n",
       "      <td>2.345865</td>\n",
       "      <td>-2.890083</td>\n",
       "      <td>1.109969</td>\n",
       "      <td>-0.121359</td>\n",
       "      <td>-2.261857</td>\n",
       "      <td>0.524980</td>\n",
       "      <td>0.247998</td>\n",
       "      <td>0.771679</td>\n",
       "      <td>0.909412</td>\n",
       "      <td>-0.689281</td>\n",
       "      <td>-0.327642</td>\n",
       "      <td>-0.139097</td>\n",
       "      <td>-0.055353</td>\n",
       "      <td>-0.059752</td>\n",
       "      <td>378.66</td>\n",
       "      <td>0</td>\n",
       "    </tr>\n",
       "    <tr>\n",
       "      <th>3</th>\n",
       "      <td>1.0</td>\n",
       "      <td>-0.966272</td>\n",
       "      <td>-0.185226</td>\n",
       "      <td>1.792993</td>\n",
       "      <td>-0.863291</td>\n",
       "      <td>-0.010309</td>\n",
       "      <td>1.247203</td>\n",
       "      <td>0.237609</td>\n",
       "      <td>0.377436</td>\n",
       "      <td>-1.387024</td>\n",
       "      <td>-0.054952</td>\n",
       "      <td>-0.226487</td>\n",
       "      <td>0.178228</td>\n",
       "      <td>0.507757</td>\n",
       "      <td>-0.287924</td>\n",
       "      <td>-0.631418</td>\n",
       "      <td>-1.059647</td>\n",
       "      <td>-0.684093</td>\n",
       "      <td>1.965775</td>\n",
       "      <td>-1.232622</td>\n",
       "      <td>-0.208038</td>\n",
       "      <td>-0.108300</td>\n",
       "      <td>0.005274</td>\n",
       "      <td>-0.190321</td>\n",
       "      <td>-1.175575</td>\n",
       "      <td>0.647376</td>\n",
       "      <td>-0.221929</td>\n",
       "      <td>0.062723</td>\n",
       "      <td>0.061458</td>\n",
       "      <td>123.50</td>\n",
       "      <td>0</td>\n",
       "    </tr>\n",
       "    <tr>\n",
       "      <th>4</th>\n",
       "      <td>2.0</td>\n",
       "      <td>-1.158233</td>\n",
       "      <td>0.877737</td>\n",
       "      <td>1.548718</td>\n",
       "      <td>0.403034</td>\n",
       "      <td>-0.407193</td>\n",
       "      <td>0.095921</td>\n",
       "      <td>0.592941</td>\n",
       "      <td>-0.270533</td>\n",
       "      <td>0.817739</td>\n",
       "      <td>0.753074</td>\n",
       "      <td>-0.822843</td>\n",
       "      <td>0.538196</td>\n",
       "      <td>1.345852</td>\n",
       "      <td>-1.119670</td>\n",
       "      <td>0.175121</td>\n",
       "      <td>-0.451449</td>\n",
       "      <td>-0.237033</td>\n",
       "      <td>-0.038195</td>\n",
       "      <td>0.803487</td>\n",
       "      <td>0.408542</td>\n",
       "      <td>-0.009431</td>\n",
       "      <td>0.798278</td>\n",
       "      <td>-0.137458</td>\n",
       "      <td>0.141267</td>\n",
       "      <td>-0.206010</td>\n",
       "      <td>0.502292</td>\n",
       "      <td>0.219422</td>\n",
       "      <td>0.215153</td>\n",
       "      <td>69.99</td>\n",
       "      <td>0</td>\n",
       "    </tr>\n",
       "  </tbody>\n",
       "</table>\n",
       "</div>"
      ],
      "text/plain": [
       "   Time        V1        V2        V3        V4        V5        V6        V7  \\\n",
       "0   0.0 -1.359807 -0.072781  2.536347  1.378155 -0.338321  0.462388  0.239599   \n",
       "1   0.0  1.191857  0.266151  0.166480  0.448154  0.060018 -0.082361 -0.078803   \n",
       "2   1.0 -1.358354 -1.340163  1.773209  0.379780 -0.503198  1.800499  0.791461   \n",
       "3   1.0 -0.966272 -0.185226  1.792993 -0.863291 -0.010309  1.247203  0.237609   \n",
       "4   2.0 -1.158233  0.877737  1.548718  0.403034 -0.407193  0.095921  0.592941   \n",
       "\n",
       "         V8        V9       V10       V11       V12       V13       V14  \\\n",
       "0  0.098698  0.363787  0.090794 -0.551600 -0.617801 -0.991390 -0.311169   \n",
       "1  0.085102 -0.255425 -0.166974  1.612727  1.065235  0.489095 -0.143772   \n",
       "2  0.247676 -1.514654  0.207643  0.624501  0.066084  0.717293 -0.165946   \n",
       "3  0.377436 -1.387024 -0.054952 -0.226487  0.178228  0.507757 -0.287924   \n",
       "4 -0.270533  0.817739  0.753074 -0.822843  0.538196  1.345852 -1.119670   \n",
       "\n",
       "        V15       V16       V17       V18       V19       V20       V21  \\\n",
       "0  1.468177 -0.470401  0.207971  0.025791  0.403993  0.251412 -0.018307   \n",
       "1  0.635558  0.463917 -0.114805 -0.183361 -0.145783 -0.069083 -0.225775   \n",
       "2  2.345865 -2.890083  1.109969 -0.121359 -2.261857  0.524980  0.247998   \n",
       "3 -0.631418 -1.059647 -0.684093  1.965775 -1.232622 -0.208038 -0.108300   \n",
       "4  0.175121 -0.451449 -0.237033 -0.038195  0.803487  0.408542 -0.009431   \n",
       "\n",
       "        V22       V23       V24       V25       V26       V27       V28  \\\n",
       "0  0.277838 -0.110474  0.066928  0.128539 -0.189115  0.133558 -0.021053   \n",
       "1 -0.638672  0.101288 -0.339846  0.167170  0.125895 -0.008983  0.014724   \n",
       "2  0.771679  0.909412 -0.689281 -0.327642 -0.139097 -0.055353 -0.059752   \n",
       "3  0.005274 -0.190321 -1.175575  0.647376 -0.221929  0.062723  0.061458   \n",
       "4  0.798278 -0.137458  0.141267 -0.206010  0.502292  0.219422  0.215153   \n",
       "\n",
       "   Amount  Class  \n",
       "0  149.62      0  \n",
       "1    2.69      0  \n",
       "2  378.66      0  \n",
       "3  123.50      0  \n",
       "4   69.99      0  "
      ]
     },
     "execution_count": 4,
     "metadata": {},
     "output_type": "execute_result"
    }
   ],
   "source": [
    "df.head()"
   ]
  },
  {
   "cell_type": "code",
   "execution_count": 5,
   "id": "9cdf453c",
   "metadata": {
    "execution": {
     "iopub.execute_input": "2023-06-23T19:18:00.446956Z",
     "iopub.status.busy": "2023-06-23T19:18:00.445692Z",
     "iopub.status.idle": "2023-06-23T19:18:00.453860Z",
     "shell.execute_reply": "2023-06-23T19:18:00.452718Z"
    },
    "papermill": {
     "duration": 0.024267,
     "end_time": "2023-06-23T19:18:00.456597",
     "exception": false,
     "start_time": "2023-06-23T19:18:00.432330",
     "status": "completed"
    },
    "tags": []
   },
   "outputs": [
    {
     "data": {
      "text/plain": [
       "(284807, 31)"
      ]
     },
     "execution_count": 5,
     "metadata": {},
     "output_type": "execute_result"
    }
   ],
   "source": [
    "df.shape"
   ]
  },
  {
   "cell_type": "code",
   "execution_count": 6,
   "id": "5190a1d5",
   "metadata": {
    "execution": {
     "iopub.execute_input": "2023-06-23T19:18:00.484444Z",
     "iopub.status.busy": "2023-06-23T19:18:00.483264Z",
     "iopub.status.idle": "2023-06-23T19:18:01.790931Z",
     "shell.execute_reply": "2023-06-23T19:18:01.789652Z"
    },
    "papermill": {
     "duration": 1.324614,
     "end_time": "2023-06-23T19:18:01.793637",
     "exception": false,
     "start_time": "2023-06-23T19:18:00.469023",
     "status": "completed"
    },
    "tags": []
   },
   "outputs": [
    {
     "data": {
      "text/plain": [
       "1081"
      ]
     },
     "execution_count": 6,
     "metadata": {},
     "output_type": "execute_result"
    }
   ],
   "source": [
    "df.duplicated().sum()"
   ]
  },
  {
   "cell_type": "code",
   "execution_count": 7,
   "id": "a1553914",
   "metadata": {
    "execution": {
     "iopub.execute_input": "2023-06-23T19:18:01.820689Z",
     "iopub.status.busy": "2023-06-23T19:18:01.819933Z",
     "iopub.status.idle": "2023-06-23T19:18:03.076990Z",
     "shell.execute_reply": "2023-06-23T19:18:03.075602Z"
    },
    "papermill": {
     "duration": 1.274224,
     "end_time": "2023-06-23T19:18:03.080150",
     "exception": false,
     "start_time": "2023-06-23T19:18:01.805926",
     "status": "completed"
    },
    "tags": []
   },
   "outputs": [],
   "source": [
    "df.drop_duplicates(inplace = True)"
   ]
  },
  {
   "cell_type": "code",
   "execution_count": 8,
   "id": "e6a14fb4",
   "metadata": {
    "execution": {
     "iopub.execute_input": "2023-06-23T19:18:03.107805Z",
     "iopub.status.busy": "2023-06-23T19:18:03.107250Z",
     "iopub.status.idle": "2023-06-23T19:18:03.136213Z",
     "shell.execute_reply": "2023-06-23T19:18:03.134906Z"
    },
    "papermill": {
     "duration": 0.046126,
     "end_time": "2023-06-23T19:18:03.139247",
     "exception": false,
     "start_time": "2023-06-23T19:18:03.093121",
     "status": "completed"
    },
    "tags": []
   },
   "outputs": [
    {
     "data": {
      "text/plain": [
       "Time      0\n",
       "V1        0\n",
       "V2        0\n",
       "V3        0\n",
       "V4        0\n",
       "V5        0\n",
       "V6        0\n",
       "V7        0\n",
       "V8        0\n",
       "V9        0\n",
       "V10       0\n",
       "V11       0\n",
       "V12       0\n",
       "V13       0\n",
       "V14       0\n",
       "V15       0\n",
       "V16       0\n",
       "V17       0\n",
       "V18       0\n",
       "V19       0\n",
       "V20       0\n",
       "V21       0\n",
       "V22       0\n",
       "V23       0\n",
       "V24       0\n",
       "V25       0\n",
       "V26       0\n",
       "V27       0\n",
       "V28       0\n",
       "Amount    0\n",
       "Class     0\n",
       "dtype: int64"
      ]
     },
     "execution_count": 8,
     "metadata": {},
     "output_type": "execute_result"
    }
   ],
   "source": [
    "df.isnull().sum()"
   ]
  },
  {
   "cell_type": "code",
   "execution_count": 9,
   "id": "8fc35dc1",
   "metadata": {
    "execution": {
     "iopub.execute_input": "2023-06-23T19:18:03.167640Z",
     "iopub.status.busy": "2023-06-23T19:18:03.166250Z",
     "iopub.status.idle": "2023-06-23T19:18:03.177142Z",
     "shell.execute_reply": "2023-06-23T19:18:03.175951Z"
    },
    "papermill": {
     "duration": 0.02779,
     "end_time": "2023-06-23T19:18:03.179880",
     "exception": false,
     "start_time": "2023-06-23T19:18:03.152090",
     "status": "completed"
    },
    "tags": []
   },
   "outputs": [
    {
     "data": {
      "text/plain": [
       "Time      float64\n",
       "V1        float64\n",
       "V2        float64\n",
       "V3        float64\n",
       "V4        float64\n",
       "V5        float64\n",
       "V6        float64\n",
       "V7        float64\n",
       "V8        float64\n",
       "V9        float64\n",
       "V10       float64\n",
       "V11       float64\n",
       "V12       float64\n",
       "V13       float64\n",
       "V14       float64\n",
       "V15       float64\n",
       "V16       float64\n",
       "V17       float64\n",
       "V18       float64\n",
       "V19       float64\n",
       "V20       float64\n",
       "V21       float64\n",
       "V22       float64\n",
       "V23       float64\n",
       "V24       float64\n",
       "V25       float64\n",
       "V26       float64\n",
       "V27       float64\n",
       "V28       float64\n",
       "Amount    float64\n",
       "Class       int64\n",
       "dtype: object"
      ]
     },
     "execution_count": 9,
     "metadata": {},
     "output_type": "execute_result"
    }
   ],
   "source": [
    "df.dtypes"
   ]
  },
  {
   "cell_type": "code",
   "execution_count": 10,
   "id": "797f9f87",
   "metadata": {
    "execution": {
     "iopub.execute_input": "2023-06-23T19:18:03.208251Z",
     "iopub.status.busy": "2023-06-23T19:18:03.207478Z",
     "iopub.status.idle": "2023-06-23T19:18:03.796132Z",
     "shell.execute_reply": "2023-06-23T19:18:03.794928Z"
    },
    "papermill": {
     "duration": 0.606201,
     "end_time": "2023-06-23T19:18:03.799225",
     "exception": false,
     "start_time": "2023-06-23T19:18:03.193024",
     "status": "completed"
    },
    "tags": []
   },
   "outputs": [
    {
     "data": {
      "text/html": [
       "<div>\n",
       "<style scoped>\n",
       "    .dataframe tbody tr th:only-of-type {\n",
       "        vertical-align: middle;\n",
       "    }\n",
       "\n",
       "    .dataframe tbody tr th {\n",
       "        vertical-align: top;\n",
       "    }\n",
       "\n",
       "    .dataframe thead th {\n",
       "        text-align: right;\n",
       "    }\n",
       "</style>\n",
       "<table border=\"1\" class=\"dataframe\">\n",
       "  <thead>\n",
       "    <tr style=\"text-align: right;\">\n",
       "      <th></th>\n",
       "      <th>Time</th>\n",
       "      <th>V1</th>\n",
       "      <th>V2</th>\n",
       "      <th>V3</th>\n",
       "      <th>V4</th>\n",
       "      <th>V5</th>\n",
       "      <th>V6</th>\n",
       "      <th>V7</th>\n",
       "      <th>V8</th>\n",
       "      <th>V9</th>\n",
       "      <th>V10</th>\n",
       "      <th>V11</th>\n",
       "      <th>V12</th>\n",
       "      <th>V13</th>\n",
       "      <th>V14</th>\n",
       "      <th>V15</th>\n",
       "      <th>V16</th>\n",
       "      <th>V17</th>\n",
       "      <th>V18</th>\n",
       "      <th>V19</th>\n",
       "      <th>V20</th>\n",
       "      <th>V21</th>\n",
       "      <th>V22</th>\n",
       "      <th>V23</th>\n",
       "      <th>V24</th>\n",
       "      <th>V25</th>\n",
       "      <th>V26</th>\n",
       "      <th>V27</th>\n",
       "      <th>V28</th>\n",
       "      <th>Amount</th>\n",
       "      <th>Class</th>\n",
       "    </tr>\n",
       "  </thead>\n",
       "  <tbody>\n",
       "    <tr>\n",
       "      <th>count</th>\n",
       "      <td>283726.000000</td>\n",
       "      <td>283726.000000</td>\n",
       "      <td>283726.000000</td>\n",
       "      <td>283726.000000</td>\n",
       "      <td>283726.000000</td>\n",
       "      <td>283726.000000</td>\n",
       "      <td>283726.000000</td>\n",
       "      <td>283726.000000</td>\n",
       "      <td>283726.000000</td>\n",
       "      <td>283726.000000</td>\n",
       "      <td>283726.000000</td>\n",
       "      <td>283726.000000</td>\n",
       "      <td>283726.000000</td>\n",
       "      <td>283726.000000</td>\n",
       "      <td>283726.000000</td>\n",
       "      <td>283726.000000</td>\n",
       "      <td>283726.000000</td>\n",
       "      <td>283726.000000</td>\n",
       "      <td>283726.000000</td>\n",
       "      <td>283726.000000</td>\n",
       "      <td>283726.000000</td>\n",
       "      <td>283726.000000</td>\n",
       "      <td>283726.000000</td>\n",
       "      <td>283726.000000</td>\n",
       "      <td>283726.000000</td>\n",
       "      <td>283726.000000</td>\n",
       "      <td>283726.000000</td>\n",
       "      <td>283726.000000</td>\n",
       "      <td>283726.000000</td>\n",
       "      <td>283726.000000</td>\n",
       "      <td>283726.000000</td>\n",
       "    </tr>\n",
       "    <tr>\n",
       "      <th>mean</th>\n",
       "      <td>94811.077600</td>\n",
       "      <td>0.005917</td>\n",
       "      <td>-0.004135</td>\n",
       "      <td>0.001613</td>\n",
       "      <td>-0.002966</td>\n",
       "      <td>0.001828</td>\n",
       "      <td>-0.001139</td>\n",
       "      <td>0.001801</td>\n",
       "      <td>-0.000854</td>\n",
       "      <td>-0.001596</td>\n",
       "      <td>-0.001441</td>\n",
       "      <td>0.000202</td>\n",
       "      <td>-0.000715</td>\n",
       "      <td>0.000603</td>\n",
       "      <td>0.000252</td>\n",
       "      <td>0.001043</td>\n",
       "      <td>0.001162</td>\n",
       "      <td>0.000170</td>\n",
       "      <td>0.001515</td>\n",
       "      <td>-0.000264</td>\n",
       "      <td>0.000187</td>\n",
       "      <td>-0.000371</td>\n",
       "      <td>-0.000015</td>\n",
       "      <td>0.000198</td>\n",
       "      <td>0.000214</td>\n",
       "      <td>-0.000232</td>\n",
       "      <td>0.000149</td>\n",
       "      <td>0.001763</td>\n",
       "      <td>0.000547</td>\n",
       "      <td>88.472687</td>\n",
       "      <td>0.001667</td>\n",
       "    </tr>\n",
       "    <tr>\n",
       "      <th>std</th>\n",
       "      <td>47481.047891</td>\n",
       "      <td>1.948026</td>\n",
       "      <td>1.646703</td>\n",
       "      <td>1.508682</td>\n",
       "      <td>1.414184</td>\n",
       "      <td>1.377008</td>\n",
       "      <td>1.331931</td>\n",
       "      <td>1.227664</td>\n",
       "      <td>1.179054</td>\n",
       "      <td>1.095492</td>\n",
       "      <td>1.076407</td>\n",
       "      <td>1.018720</td>\n",
       "      <td>0.994674</td>\n",
       "      <td>0.995430</td>\n",
       "      <td>0.952215</td>\n",
       "      <td>0.914894</td>\n",
       "      <td>0.873696</td>\n",
       "      <td>0.842507</td>\n",
       "      <td>0.837378</td>\n",
       "      <td>0.813379</td>\n",
       "      <td>0.769984</td>\n",
       "      <td>0.723909</td>\n",
       "      <td>0.724550</td>\n",
       "      <td>0.623702</td>\n",
       "      <td>0.605627</td>\n",
       "      <td>0.521220</td>\n",
       "      <td>0.482053</td>\n",
       "      <td>0.395744</td>\n",
       "      <td>0.328027</td>\n",
       "      <td>250.399437</td>\n",
       "      <td>0.040796</td>\n",
       "    </tr>\n",
       "    <tr>\n",
       "      <th>min</th>\n",
       "      <td>0.000000</td>\n",
       "      <td>-56.407510</td>\n",
       "      <td>-72.715728</td>\n",
       "      <td>-48.325589</td>\n",
       "      <td>-5.683171</td>\n",
       "      <td>-113.743307</td>\n",
       "      <td>-26.160506</td>\n",
       "      <td>-43.557242</td>\n",
       "      <td>-73.216718</td>\n",
       "      <td>-13.434066</td>\n",
       "      <td>-24.588262</td>\n",
       "      <td>-4.797473</td>\n",
       "      <td>-18.683715</td>\n",
       "      <td>-5.791881</td>\n",
       "      <td>-19.214325</td>\n",
       "      <td>-4.498945</td>\n",
       "      <td>-14.129855</td>\n",
       "      <td>-25.162799</td>\n",
       "      <td>-9.498746</td>\n",
       "      <td>-7.213527</td>\n",
       "      <td>-54.497720</td>\n",
       "      <td>-34.830382</td>\n",
       "      <td>-10.933144</td>\n",
       "      <td>-44.807735</td>\n",
       "      <td>-2.836627</td>\n",
       "      <td>-10.295397</td>\n",
       "      <td>-2.604551</td>\n",
       "      <td>-22.565679</td>\n",
       "      <td>-15.430084</td>\n",
       "      <td>0.000000</td>\n",
       "      <td>0.000000</td>\n",
       "    </tr>\n",
       "    <tr>\n",
       "      <th>25%</th>\n",
       "      <td>54204.750000</td>\n",
       "      <td>-0.915951</td>\n",
       "      <td>-0.600321</td>\n",
       "      <td>-0.889682</td>\n",
       "      <td>-0.850134</td>\n",
       "      <td>-0.689830</td>\n",
       "      <td>-0.769031</td>\n",
       "      <td>-0.552509</td>\n",
       "      <td>-0.208828</td>\n",
       "      <td>-0.644221</td>\n",
       "      <td>-0.535578</td>\n",
       "      <td>-0.761649</td>\n",
       "      <td>-0.406198</td>\n",
       "      <td>-0.647862</td>\n",
       "      <td>-0.425732</td>\n",
       "      <td>-0.581452</td>\n",
       "      <td>-0.466860</td>\n",
       "      <td>-0.483928</td>\n",
       "      <td>-0.498014</td>\n",
       "      <td>-0.456289</td>\n",
       "      <td>-0.211469</td>\n",
       "      <td>-0.228305</td>\n",
       "      <td>-0.542700</td>\n",
       "      <td>-0.161703</td>\n",
       "      <td>-0.354453</td>\n",
       "      <td>-0.317485</td>\n",
       "      <td>-0.326763</td>\n",
       "      <td>-0.070641</td>\n",
       "      <td>-0.052818</td>\n",
       "      <td>5.600000</td>\n",
       "      <td>0.000000</td>\n",
       "    </tr>\n",
       "    <tr>\n",
       "      <th>50%</th>\n",
       "      <td>84692.500000</td>\n",
       "      <td>0.020384</td>\n",
       "      <td>0.063949</td>\n",
       "      <td>0.179963</td>\n",
       "      <td>-0.022248</td>\n",
       "      <td>-0.053468</td>\n",
       "      <td>-0.275168</td>\n",
       "      <td>0.040859</td>\n",
       "      <td>0.021898</td>\n",
       "      <td>-0.052596</td>\n",
       "      <td>-0.093237</td>\n",
       "      <td>-0.032306</td>\n",
       "      <td>0.139072</td>\n",
       "      <td>-0.012927</td>\n",
       "      <td>0.050209</td>\n",
       "      <td>0.049299</td>\n",
       "      <td>0.067119</td>\n",
       "      <td>-0.065867</td>\n",
       "      <td>-0.002142</td>\n",
       "      <td>0.003367</td>\n",
       "      <td>-0.062353</td>\n",
       "      <td>-0.029441</td>\n",
       "      <td>0.006675</td>\n",
       "      <td>-0.011159</td>\n",
       "      <td>0.041016</td>\n",
       "      <td>0.016278</td>\n",
       "      <td>-0.052172</td>\n",
       "      <td>0.001479</td>\n",
       "      <td>0.011288</td>\n",
       "      <td>22.000000</td>\n",
       "      <td>0.000000</td>\n",
       "    </tr>\n",
       "    <tr>\n",
       "      <th>75%</th>\n",
       "      <td>139298.000000</td>\n",
       "      <td>1.316068</td>\n",
       "      <td>0.800283</td>\n",
       "      <td>1.026960</td>\n",
       "      <td>0.739647</td>\n",
       "      <td>0.612218</td>\n",
       "      <td>0.396792</td>\n",
       "      <td>0.570474</td>\n",
       "      <td>0.325704</td>\n",
       "      <td>0.595977</td>\n",
       "      <td>0.453619</td>\n",
       "      <td>0.739579</td>\n",
       "      <td>0.616976</td>\n",
       "      <td>0.663178</td>\n",
       "      <td>0.492336</td>\n",
       "      <td>0.650104</td>\n",
       "      <td>0.523512</td>\n",
       "      <td>0.398972</td>\n",
       "      <td>0.501956</td>\n",
       "      <td>0.458508</td>\n",
       "      <td>0.133207</td>\n",
       "      <td>0.186194</td>\n",
       "      <td>0.528245</td>\n",
       "      <td>0.147748</td>\n",
       "      <td>0.439738</td>\n",
       "      <td>0.350667</td>\n",
       "      <td>0.240261</td>\n",
       "      <td>0.091208</td>\n",
       "      <td>0.078276</td>\n",
       "      <td>77.510000</td>\n",
       "      <td>0.000000</td>\n",
       "    </tr>\n",
       "    <tr>\n",
       "      <th>max</th>\n",
       "      <td>172792.000000</td>\n",
       "      <td>2.454930</td>\n",
       "      <td>22.057729</td>\n",
       "      <td>9.382558</td>\n",
       "      <td>16.875344</td>\n",
       "      <td>34.801666</td>\n",
       "      <td>73.301626</td>\n",
       "      <td>120.589494</td>\n",
       "      <td>20.007208</td>\n",
       "      <td>15.594995</td>\n",
       "      <td>23.745136</td>\n",
       "      <td>12.018913</td>\n",
       "      <td>7.848392</td>\n",
       "      <td>7.126883</td>\n",
       "      <td>10.526766</td>\n",
       "      <td>8.877742</td>\n",
       "      <td>17.315112</td>\n",
       "      <td>9.253526</td>\n",
       "      <td>5.041069</td>\n",
       "      <td>5.591971</td>\n",
       "      <td>39.420904</td>\n",
       "      <td>27.202839</td>\n",
       "      <td>10.503090</td>\n",
       "      <td>22.528412</td>\n",
       "      <td>4.584549</td>\n",
       "      <td>7.519589</td>\n",
       "      <td>3.517346</td>\n",
       "      <td>31.612198</td>\n",
       "      <td>33.847808</td>\n",
       "      <td>25691.160000</td>\n",
       "      <td>1.000000</td>\n",
       "    </tr>\n",
       "  </tbody>\n",
       "</table>\n",
       "</div>"
      ],
      "text/plain": [
       "                Time             V1             V2             V3  \\\n",
       "count  283726.000000  283726.000000  283726.000000  283726.000000   \n",
       "mean    94811.077600       0.005917      -0.004135       0.001613   \n",
       "std     47481.047891       1.948026       1.646703       1.508682   \n",
       "min         0.000000     -56.407510     -72.715728     -48.325589   \n",
       "25%     54204.750000      -0.915951      -0.600321      -0.889682   \n",
       "50%     84692.500000       0.020384       0.063949       0.179963   \n",
       "75%    139298.000000       1.316068       0.800283       1.026960   \n",
       "max    172792.000000       2.454930      22.057729       9.382558   \n",
       "\n",
       "                  V4             V5             V6             V7  \\\n",
       "count  283726.000000  283726.000000  283726.000000  283726.000000   \n",
       "mean       -0.002966       0.001828      -0.001139       0.001801   \n",
       "std         1.414184       1.377008       1.331931       1.227664   \n",
       "min        -5.683171    -113.743307     -26.160506     -43.557242   \n",
       "25%        -0.850134      -0.689830      -0.769031      -0.552509   \n",
       "50%        -0.022248      -0.053468      -0.275168       0.040859   \n",
       "75%         0.739647       0.612218       0.396792       0.570474   \n",
       "max        16.875344      34.801666      73.301626     120.589494   \n",
       "\n",
       "                  V8             V9            V10            V11  \\\n",
       "count  283726.000000  283726.000000  283726.000000  283726.000000   \n",
       "mean       -0.000854      -0.001596      -0.001441       0.000202   \n",
       "std         1.179054       1.095492       1.076407       1.018720   \n",
       "min       -73.216718     -13.434066     -24.588262      -4.797473   \n",
       "25%        -0.208828      -0.644221      -0.535578      -0.761649   \n",
       "50%         0.021898      -0.052596      -0.093237      -0.032306   \n",
       "75%         0.325704       0.595977       0.453619       0.739579   \n",
       "max        20.007208      15.594995      23.745136      12.018913   \n",
       "\n",
       "                 V12            V13            V14            V15  \\\n",
       "count  283726.000000  283726.000000  283726.000000  283726.000000   \n",
       "mean       -0.000715       0.000603       0.000252       0.001043   \n",
       "std         0.994674       0.995430       0.952215       0.914894   \n",
       "min       -18.683715      -5.791881     -19.214325      -4.498945   \n",
       "25%        -0.406198      -0.647862      -0.425732      -0.581452   \n",
       "50%         0.139072      -0.012927       0.050209       0.049299   \n",
       "75%         0.616976       0.663178       0.492336       0.650104   \n",
       "max         7.848392       7.126883      10.526766       8.877742   \n",
       "\n",
       "                 V16            V17            V18            V19  \\\n",
       "count  283726.000000  283726.000000  283726.000000  283726.000000   \n",
       "mean        0.001162       0.000170       0.001515      -0.000264   \n",
       "std         0.873696       0.842507       0.837378       0.813379   \n",
       "min       -14.129855     -25.162799      -9.498746      -7.213527   \n",
       "25%        -0.466860      -0.483928      -0.498014      -0.456289   \n",
       "50%         0.067119      -0.065867      -0.002142       0.003367   \n",
       "75%         0.523512       0.398972       0.501956       0.458508   \n",
       "max        17.315112       9.253526       5.041069       5.591971   \n",
       "\n",
       "                 V20            V21            V22            V23  \\\n",
       "count  283726.000000  283726.000000  283726.000000  283726.000000   \n",
       "mean        0.000187      -0.000371      -0.000015       0.000198   \n",
       "std         0.769984       0.723909       0.724550       0.623702   \n",
       "min       -54.497720     -34.830382     -10.933144     -44.807735   \n",
       "25%        -0.211469      -0.228305      -0.542700      -0.161703   \n",
       "50%        -0.062353      -0.029441       0.006675      -0.011159   \n",
       "75%         0.133207       0.186194       0.528245       0.147748   \n",
       "max        39.420904      27.202839      10.503090      22.528412   \n",
       "\n",
       "                 V24            V25            V26            V27  \\\n",
       "count  283726.000000  283726.000000  283726.000000  283726.000000   \n",
       "mean        0.000214      -0.000232       0.000149       0.001763   \n",
       "std         0.605627       0.521220       0.482053       0.395744   \n",
       "min        -2.836627     -10.295397      -2.604551     -22.565679   \n",
       "25%        -0.354453      -0.317485      -0.326763      -0.070641   \n",
       "50%         0.041016       0.016278      -0.052172       0.001479   \n",
       "75%         0.439738       0.350667       0.240261       0.091208   \n",
       "max         4.584549       7.519589       3.517346      31.612198   \n",
       "\n",
       "                 V28         Amount          Class  \n",
       "count  283726.000000  283726.000000  283726.000000  \n",
       "mean        0.000547      88.472687       0.001667  \n",
       "std         0.328027     250.399437       0.040796  \n",
       "min       -15.430084       0.000000       0.000000  \n",
       "25%        -0.052818       5.600000       0.000000  \n",
       "50%         0.011288      22.000000       0.000000  \n",
       "75%         0.078276      77.510000       0.000000  \n",
       "max        33.847808   25691.160000       1.000000  "
      ]
     },
     "execution_count": 10,
     "metadata": {},
     "output_type": "execute_result"
    }
   ],
   "source": [
    "df.describe()"
   ]
  },
  {
   "cell_type": "code",
   "execution_count": 11,
   "id": "09ad2266",
   "metadata": {
    "execution": {
     "iopub.execute_input": "2023-06-23T19:18:03.837782Z",
     "iopub.status.busy": "2023-06-23T19:18:03.836744Z",
     "iopub.status.idle": "2023-06-23T19:18:05.207468Z",
     "shell.execute_reply": "2023-06-23T19:18:05.205902Z"
    },
    "papermill": {
     "duration": 1.391983,
     "end_time": "2023-06-23T19:18:05.211049",
     "exception": false,
     "start_time": "2023-06-23T19:18:03.819066",
     "status": "completed"
    },
    "tags": []
   },
   "outputs": [],
   "source": [
    "# Outlier Removal\n",
    "\n",
    "column = df.columns[1:-1]\n",
    "\n",
    "Q3 = df[column].quantile(0.75)\n",
    "Q1 = df[column].quantile(0.25)\n",
    "IQR = Q3 - Q1\n",
    "UL = Q3 + 1.5 * IQR\n",
    "LL = Q1 - 1.5 * IQR\n",
    "\n",
    "columns = df.columns[1:-1]\n",
    "\n",
    "for column in columns:\n",
    "    df[column] = np.where(df[column] > UL[column], UL[column], np.where(df[column] < LL[column], LL[column], df[column]))\n"
   ]
  },
  {
   "cell_type": "code",
   "execution_count": 12,
   "id": "b7cc47a2",
   "metadata": {
    "execution": {
     "iopub.execute_input": "2023-06-23T19:18:05.240314Z",
     "iopub.status.busy": "2023-06-23T19:18:05.239823Z",
     "iopub.status.idle": "2023-06-23T19:18:05.256429Z",
     "shell.execute_reply": "2023-06-23T19:18:05.255176Z"
    },
    "papermill": {
     "duration": 0.036031,
     "end_time": "2023-06-23T19:18:05.260726",
     "exception": false,
     "start_time": "2023-06-23T19:18:05.224695",
     "status": "completed"
    },
    "tags": []
   },
   "outputs": [
    {
     "data": {
      "text/plain": [
       "0    283253\n",
       "1       473\n",
       "Name: Class, dtype: int64"
      ]
     },
     "execution_count": 12,
     "metadata": {},
     "output_type": "execute_result"
    }
   ],
   "source": [
    "df['Class'].value_counts()"
   ]
  },
  {
   "cell_type": "markdown",
   "id": "a3dc1a43",
   "metadata": {
    "papermill": {
     "duration": 0.012974,
     "end_time": "2023-06-23T19:18:05.287052",
     "exception": false,
     "start_time": "2023-06-23T19:18:05.274078",
     "status": "completed"
    },
    "tags": []
   },
   "source": [
    "# Data Visualisation"
   ]
  },
  {
   "cell_type": "code",
   "execution_count": 13,
   "id": "f8d65ff8",
   "metadata": {
    "execution": {
     "iopub.execute_input": "2023-06-23T19:18:05.316608Z",
     "iopub.status.busy": "2023-06-23T19:18:05.315427Z",
     "iopub.status.idle": "2023-06-23T19:18:30.720289Z",
     "shell.execute_reply": "2023-06-23T19:18:30.719077Z"
    },
    "papermill": {
     "duration": 25.42572,
     "end_time": "2023-06-23T19:18:30.726126",
     "exception": false,
     "start_time": "2023-06-23T19:18:05.300406",
     "status": "completed"
    },
    "tags": []
   },
   "outputs": [
    {
     "data": {
      "image/png": "[encoded data removed]",
      "text/plain": [
       "<Figure size 864x2160 with 30 Axes>"
      ]
     },
     "metadata": {
      "needs_background": "light"
     },
     "output_type": "display_data"
    }
   ],
   "source": [
    "# Distribution\n",
    "\n",
    "def plot_histplots_subplots(df):\n",
    "    num_rows = 15\n",
    "    num_cols = 2\n",
    "\n",
    "    fig, axes = plt.subplots(num_rows, num_cols, figsize=(12, 30))\n",
    "\n",
    "    for i, column in enumerate(df.columns[:-1]):\n",
    "        row = i // num_cols\n",
    "        col = i % num_cols\n",
    "        ax = axes[row, col]\n",
    "\n",
    "        sns.histplot(df[column], ax=ax)\n",
    "        ax.set_title(f\"Histogram of {column}\")\n",
    "\n",
    "    plt.tight_layout()\n",
    "    plt.show()\n",
    "\n",
    "plot_histplots_subplots(df)"
   ]
  },
  {
   "cell_type": "markdown",
   "id": "de14baa7",
   "metadata": {
    "papermill": {
     "duration": 0.02695,
     "end_time": "2023-06-23T19:18:35.777342",
     "exception": false,
     "start_time": "2023-06-23T19:18:35.750392",
     "status": "completed"
    },
    "tags": []
   },
   "source": [
    "# Label Encoding"
   ]
  },
  {
   "cell_type": "code",
   "execution_count": 14,
   "id": "0e55d635",
   "metadata": {
    "execution": {
     "iopub.execute_input": "2023-06-23T19:18:35.832579Z",
     "iopub.status.busy": "2023-06-23T19:18:35.832057Z",
     "iopub.status.idle": "2023-06-23T19:18:37.280465Z",
     "shell.execute_reply": "2023-06-23T19:18:37.279070Z"
    },
    "papermill": {
     "duration": 1.479735,
     "end_time": "2023-06-23T19:18:37.283755",
     "exception": false,
     "start_time": "2023-06-23T19:18:35.804020",
     "status": "completed"
    },
    "tags": []
   },
   "outputs": [],
   "source": [
    "from sklearn.preprocessing import LabelEncoder\n",
    "encoder = LabelEncoder()\n",
    "\n",
    "columns = df.columns\n",
    "\n",
    "for i in columns:\n",
    "    df[i] = encoder.fit_transform(df[i])"
   ]
  },
  {
   "cell_type": "markdown",
   "id": "8388bf91",
   "metadata": {
    "papermill": {
     "duration": 0.025408,
     "end_time": "2023-06-23T19:18:37.335340",
     "exception": false,
     "start_time": "2023-06-23T19:18:37.309932",
     "status": "completed"
    },
    "tags": []
   },
   "source": [
    "Note: Although all values were numerical, we needed to use label encoder because without encoder y_train below was giving 2-dimensional array while we can only use 1-dimensional array in below codes. "
   ]
  },
  {
   "cell_type": "markdown",
   "id": "01ffec36",
   "metadata": {
    "papermill": {
     "duration": 0.025639,
     "end_time": "2023-06-23T19:18:37.386983",
     "exception": false,
     "start_time": "2023-06-23T19:18:37.361344",
     "status": "completed"
    },
    "tags": []
   },
   "source": [
    "# Train Test Split"
   ]
  },
  {
   "cell_type": "code",
   "execution_count": 15,
   "id": "59dcf09f",
   "metadata": {
    "execution": {
     "iopub.execute_input": "2023-06-23T19:18:37.441790Z",
     "iopub.status.busy": "2023-06-23T19:18:37.441322Z",
     "iopub.status.idle": "2023-06-23T19:18:37.492891Z",
     "shell.execute_reply": "2023-06-23T19:18:37.491209Z"
    },
    "papermill": {
     "duration": 0.082871,
     "end_time": "2023-06-23T19:18:37.496192",
     "exception": false,
     "start_time": "2023-06-23T19:18:37.413321",
     "status": "completed"
    },
    "tags": []
   },
   "outputs": [],
   "source": [
    "x = df.drop(['Class'], axis = 1)\n",
    "y = df['Class']"
   ]
  },
  {
   "cell_type": "code",
   "execution_count": 16,
   "id": "5981dfa9",
   "metadata": {
    "execution": {
     "iopub.execute_input": "2023-06-23T19:18:37.550659Z",
     "iopub.status.busy": "2023-06-23T19:18:37.550170Z",
     "iopub.status.idle": "2023-06-23T19:18:38.485293Z",
     "shell.execute_reply": "2023-06-23T19:18:38.483431Z"
    },
    "papermill": {
     "duration": 0.966071,
     "end_time": "2023-06-23T19:18:38.488509",
     "exception": false,
     "start_time": "2023-06-23T19:18:37.522438",
     "status": "completed"
    },
    "tags": []
   },
   "outputs": [],
   "source": [
    "from sklearn.model_selection import train_test_split\n",
    "x_train, x_test, y_train, y_test = train_test_split(x, y, train_size = 0.7, random_state = 10)"
   ]
  },
  {
   "cell_type": "markdown",
   "id": "35340e2f",
   "metadata": {
    "papermill": {
     "duration": 0.026318,
     "end_time": "2023-06-23T19:18:38.541340",
     "exception": false,
     "start_time": "2023-06-23T19:18:38.515022",
     "status": "completed"
    },
    "tags": []
   },
   "source": [
    "# ML Models"
   ]
  },
  {
   "cell_type": "markdown",
   "id": "c40059d6",
   "metadata": {
    "papermill": {
     "duration": 0.026628,
     "end_time": "2023-06-23T19:18:38.594939",
     "exception": false,
     "start_time": "2023-06-23T19:18:38.568311",
     "status": "completed"
    },
    "tags": []
   },
   "source": [
    "### Logistic Regression"
   ]
  },
  {
   "cell_type": "code",
   "execution_count": 17,
   "id": "60fdae90",
   "metadata": {
    "execution": {
     "iopub.execute_input": "2023-06-23T19:18:38.649994Z",
     "iopub.status.busy": "2023-06-23T19:18:38.649491Z",
     "iopub.status.idle": "2023-06-23T19:18:38.796872Z",
     "shell.execute_reply": "2023-06-23T19:18:38.795095Z"
    },
    "papermill": {
     "duration": 0.179025,
     "end_time": "2023-06-23T19:18:38.800269",
     "exception": false,
     "start_time": "2023-06-23T19:18:38.621244",
     "status": "completed"
    },
    "tags": []
   },
   "outputs": [],
   "source": [
    "from sklearn.linear_model import LogisticRegression\n",
    "lr = LogisticRegression()"
   ]
  },
  {
   "cell_type": "code",
   "execution_count": 18,
   "id": "7a1372d8",
   "metadata": {
    "execution": {
     "iopub.execute_input": "2023-06-23T19:18:38.856732Z",
     "iopub.status.busy": "2023-06-23T19:18:38.856187Z",
     "iopub.status.idle": "2023-06-23T19:18:43.421266Z",
     "shell.execute_reply": "2023-06-23T19:18:43.419512Z"
    },
    "papermill": {
     "duration": 4.599226,
     "end_time": "2023-06-23T19:18:43.426258",
     "exception": false,
     "start_time": "2023-06-23T19:18:38.827032",
     "status": "completed"
    },
    "tags": []
   },
   "outputs": [],
   "source": [
    "lr_model = lr.fit(x_train, y_train)\n",
    "y_predlr = lr_model.predict(x_test)"
   ]
  },
  {
   "cell_type": "code",
   "execution_count": 19,
   "id": "306a5ee7",
   "metadata": {
    "execution": {
     "iopub.execute_input": "2023-06-23T19:18:43.539892Z",
     "iopub.status.busy": "2023-06-23T19:18:43.539376Z",
     "iopub.status.idle": "2023-06-23T19:18:43.863212Z",
     "shell.execute_reply": "2023-06-23T19:18:43.861846Z"
    },
    "papermill": {
     "duration": 0.3854,
     "end_time": "2023-06-23T19:18:43.868349",
     "exception": false,
     "start_time": "2023-06-23T19:18:43.482949",
     "status": "completed"
    },
    "tags": []
   },
   "outputs": [
    {
     "data": {
      "image/png": "[encoded data removed]",
      "text/plain": [
       "<Figure size 432x288 with 1 Axes>"
      ]
     },
     "metadata": {
      "needs_background": "light"
     },
     "output_type": "display_data"
    },
    {
     "name": "stdout",
     "output_type": "stream",
     "text": [
      "AUPRC =  0.7715731183035396\n"
     ]
    }
   ],
   "source": [
    "from sklearn.metrics import precision_recall_curve, auc\n",
    "\n",
    "precision, recall, thresholds = precision_recall_curve(y_test, y_predlr)\n",
    "auprc = auc(recall, precision)\n",
    "\n",
    "# Plotting AUPRC\n",
    "plt.plot(recall, precision)\n",
    "plt.xlabel('Recall')\n",
    "plt.ylabel('Precision')\n",
    "plt.title('Precision-Recall Curve')\n",
    "plt.show()\n",
    "\n",
    "print('AUPRC = ', auprc)\n"
   ]
  },
  {
   "cell_type": "markdown",
   "id": "ef3f7fb8",
   "metadata": {
    "papermill": {
     "duration": 0.027601,
     "end_time": "2023-06-23T19:18:43.924650",
     "exception": false,
     "start_time": "2023-06-23T19:18:43.897049",
     "status": "completed"
    },
    "tags": []
   },
   "source": [
    "### Decision Tree Classifier"
   ]
  },
  {
   "cell_type": "code",
   "execution_count": 20,
   "id": "6e26a8a0",
   "metadata": {
    "execution": {
     "iopub.execute_input": "2023-06-23T19:18:43.982893Z",
     "iopub.status.busy": "2023-06-23T19:18:43.982156Z",
     "iopub.status.idle": "2023-06-23T19:19:00.182144Z",
     "shell.execute_reply": "2023-06-23T19:19:00.180653Z"
    },
    "papermill": {
     "duration": 16.23288,
     "end_time": "2023-06-23T19:19:00.185575",
     "exception": false,
     "start_time": "2023-06-23T19:18:43.952695",
     "status": "completed"
    },
    "tags": []
   },
   "outputs": [],
   "source": [
    "from sklearn.tree import DecisionTreeClassifier\n",
    "dt = DecisionTreeClassifier()\n",
    "\n",
    "dt_model = dt.fit(x_train, y_train)\n",
    "y_preddt = dt_model.predict(x_test)"
   ]
  },
  {
   "cell_type": "code",
   "execution_count": 21,
   "id": "98a964b9",
   "metadata": {
    "execution": {
     "iopub.execute_input": "2023-06-23T19:19:00.242934Z",
     "iopub.status.busy": "2023-06-23T19:19:00.242101Z",
     "iopub.status.idle": "2023-06-23T19:19:00.549991Z",
     "shell.execute_reply": "2023-06-23T19:19:00.548679Z"
    },
    "papermill": {
     "duration": 0.340526,
     "end_time": "2023-06-23T19:19:00.553552",
     "exception": false,
     "start_time": "2023-06-23T19:19:00.213026",
     "status": "completed"
    },
    "tags": []
   },
   "outputs": [
    {
     "data": {
      "image/png": "[encoded data removed]",
      "text/plain": [
       "<Figure size 432x288 with 1 Axes>"
      ]
     },
     "metadata": {
      "needs_background": "light"
     },
     "output_type": "display_data"
    },
    {
     "name": "stdout",
     "output_type": "stream",
     "text": [
      "AUPRC =  0.6851649476981462\n"
     ]
    }
   ],
   "source": [
    "precision, recall, thresolds = precision_recall_curve(y_test, y_preddt)\n",
    "auprc = auc(recall, precision)\n",
    "\n",
    "# Plotting AUPRC\n",
    "plt.plot(recall, precision)\n",
    "plt.xlabel('Recall')\n",
    "plt.ylabel('Precision')\n",
    "plt.title('Precision-Recall Curve')\n",
    "plt.show()\n",
    "\n",
    "print('AUPRC = ', auprc)"
   ]
  },
  {
   "cell_type": "markdown",
   "id": "c82ecbd9",
   "metadata": {
    "papermill": {
     "duration": 0.027083,
     "end_time": "2023-06-23T19:19:00.608861",
     "exception": false,
     "start_time": "2023-06-23T19:19:00.581778",
     "status": "completed"
    },
    "tags": []
   },
   "source": [
    "### Random Forest Classifier"
   ]
  },
  {
   "cell_type": "code",
   "execution_count": 22,
   "id": "5b05dad1",
   "metadata": {
    "execution": {
     "iopub.execute_input": "2023-06-23T19:19:00.667518Z",
     "iopub.status.busy": "2023-06-23T19:19:00.667032Z",
     "iopub.status.idle": "2023-06-23T19:22:10.318020Z",
     "shell.execute_reply": "2023-06-23T19:22:10.316373Z"
    },
    "papermill": {
     "duration": 189.685011,
     "end_time": "2023-06-23T19:22:10.321674",
     "exception": false,
     "start_time": "2023-06-23T19:19:00.636663",
     "status": "completed"
    },
    "tags": []
   },
   "outputs": [],
   "source": [
    "from sklearn.ensemble import RandomForestClassifier\n",
    "rf = RandomForestClassifier()\n",
    "\n",
    "rf_model = rf.fit(x_train, y_train)\n",
    "y_predrf = rf_model.predict(x_test)"
   ]
  },
  {
   "cell_type": "code",
   "execution_count": 23,
   "id": "29b0cf92",
   "metadata": {
    "execution": {
     "iopub.execute_input": "2023-06-23T19:22:10.382519Z",
     "iopub.status.busy": "2023-06-23T19:22:10.381809Z",
     "iopub.status.idle": "2023-06-23T19:22:10.691414Z",
     "shell.execute_reply": "2023-06-23T19:22:10.690098Z"
    },
    "papermill": {
     "duration": 0.344685,
     "end_time": "2023-06-23T19:22:10.695482",
     "exception": false,
     "start_time": "2023-06-23T19:22:10.350797",
     "status": "completed"
    },
    "tags": []
   },
   "outputs": [
    {
     "data": {
      "image/png": "[encoded data removed]",
      "text/plain": [
       "<Figure size 432x288 with 1 Axes>"
      ]
     },
     "metadata": {
      "needs_background": "light"
     },
     "output_type": "display_data"
    },
    {
     "name": "stdout",
     "output_type": "stream",
     "text": [
      "AUPRC =  0.8390629207959268\n"
     ]
    }
   ],
   "source": [
    "precision, recall, thresholds = precision_recall_curve(y_test, y_predrf)\n",
    "auprc = auc(precision, recall)\n",
    "\n",
    "# Plotting AUPRC\n",
    "plt.plot(recall, precision)\n",
    "plt.xlabel('Recall')\n",
    "plt.ylabel('Precision')\n",
    "plt.title('Precision-Recall Curve')\n",
    "plt.show()\n",
    "\n",
    "print('AUPRC = ', auprc)"
   ]
  },
  {
   "cell_type": "markdown",
   "id": "76abe8d0",
   "metadata": {
    "papermill": {
     "duration": 0.028041,
     "end_time": "2023-06-23T19:22:10.752012",
     "exception": false,
     "start_time": "2023-06-23T19:22:10.723971",
     "status": "completed"
    },
    "tags": []
   },
   "source": [
    "Since AUPRC is best when Random Forest Classifier is used, we will use rf_model for our analysis."
   ]
  },
  {
   "cell_type": "markdown",
   "id": "c5b88072",
   "metadata": {
    "papermill": {
     "duration": 0.027899,
     "end_time": "2023-06-23T19:22:10.808515",
     "exception": false,
     "start_time": "2023-06-23T19:22:10.780616",
     "status": "completed"
    },
    "tags": []
   },
   "source": [
    "# Scaling our Data"
   ]
  },
  {
   "cell_type": "code",
   "execution_count": 24,
   "id": "25a842ab",
   "metadata": {
    "execution": {
     "iopub.execute_input": "2023-06-23T19:22:10.867193Z",
     "iopub.status.busy": "2023-06-23T19:22:10.866742Z",
     "iopub.status.idle": "2023-06-23T19:25:16.025274Z",
     "shell.execute_reply": "2023-06-23T19:25:16.023869Z"
    },
    "papermill": {
     "duration": 185.226202,
     "end_time": "2023-06-23T19:25:16.063019",
     "exception": false,
     "start_time": "2023-06-23T19:22:10.836817",
     "status": "completed"
    },
    "tags": []
   },
   "outputs": [
    {
     "data": {
      "image/png": "[encoded data removed]",
      "text/plain": [
       "<Figure size 432x288 with 1 Axes>"
      ]
     },
     "metadata": {
      "needs_background": "light"
     },
     "output_type": "display_data"
    },
    {
     "name": "stdout",
     "output_type": "stream",
     "text": [
      "AUPRC =  0.8390629207959268\n"
     ]
    }
   ],
   "source": [
    "from sklearn.preprocessing import StandardScaler\n",
    "sc = StandardScaler()\n",
    "\n",
    "# Scaling and fitting\n",
    "x_train2 = sc.fit_transform(x_train)\n",
    "x_test2 = sc.transform(x_test)\n",
    "rf = RandomForestClassifier()\n",
    "rf_model = rf.fit(x_train2, y_train)\n",
    "y_predrf1 = rf_model.predict(x_test2)\n",
    "\n",
    "# Calculating AUPRC\n",
    "precision, recall, thresolds = precision_recall_curve(y_test, y_predrf1)\n",
    "auprc = auc(precision, recall)\n",
    "\n",
    "# Plotting AUPRC\n",
    "plt.plot(recall, precision)\n",
    "plt.xlabel('Recall')\n",
    "plt.ylabel('Precision')\n",
    "plt.title('Precision-Recall Curve')\n",
    "plt.show()\n",
    "\n",
    "print('AUPRC = ', auprc)"
   ]
  },
  {
   "cell_type": "markdown",
   "id": "8e163d76",
   "metadata": {
    "papermill": {
     "duration": 0.029503,
     "end_time": "2023-06-23T19:25:16.121903",
     "exception": false,
     "start_time": "2023-06-23T19:25:16.092400",
     "status": "completed"
    },
    "tags": []
   },
   "source": [
    "# Conclusion"
   ]
  },
  {
   "cell_type": "markdown",
   "id": "835b018b",
   "metadata": {
    "papermill": {
     "duration": 0.029554,
     "end_time": "2023-06-23T19:25:16.181055",
     "exception": false,
     "start_time": "2023-06-23T19:25:16.151501",
     "status": "completed"
    },
    "tags": []
   },
   "source": [
    "The credit card fraud detection model built using a Random Forest Classifier achieved an AUPRC of 0.83. This indicates that the model performs well in identifying fraudulent transactions while maintaining a low false positive rate. AUPRC was the most suitable evaluation metric for our project, as it considers the precision-recall trade-off and is robust against class imbalance. In the future, this model can be utilized to efficiently detect credit card fraud, potentially saving financial institutions and customers from fraudulent activities."
   ]
  }
 ],
 "metadata": {
  "kernelspec": {
   "display_name": "Python 3 (ipykernel)",
   "language": "python",
   "name": "python3"
  },
  "language_info": {
   "codemirror_mode": {
    "name": "ipython",
    "version": 3
   },
   "file_extension": ".py",
   "mimetype": "text/x-python",
   "name": "python",
   "nbconvert_exporter": "python",
   "pygments_lexer": "ipython3",
   "version": "3.9.7"
  },
  "papermill": {
   "default_parameters": {},
   "duration": 462.275008,
   "end_time": "2023-06-23T19:25:19.326365",
   "environment_variables": {},
   "exception": null,
   "input_path": "__notebook__.ipynb",
   "output_path": "__notebook__.ipynb",
   "parameters": {},
   "start_time": "2023-06-23T19:17:37.051357",
   "version": "2.4.0"
  }
 },
 "nbformat": 4,
 "nbformat_minor": 5
}
